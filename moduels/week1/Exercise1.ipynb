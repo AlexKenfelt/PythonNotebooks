{
 "cells": [
  {
   "cell_type": "markdown",
   "metadata": {},
   "source": [
    "1. Create 5 list comprehensions to solve the following 5 problems:\n",
    "  1. Iterate a list of names to return a list of the names starting with H\n",
    "  2. In one line create a list of the numbers 1-100 to the power of 3\n",
    "  3. Iterate a list of names to create a list of tuples where the tuples first value is the length of the name and the second is the name\n",
    "  4. Iterate over each character in a string and get only those that are nummeric\n",
    "  5. Using only a list comprehension wrapped in set() get all possible combination from throwing 2 dice (hint use 2 for loops in a single list comprehension)\n",
    "\n",
    "2. Create 2 dictionary comprehensions to solve the following:\n",
    "  1. Iterate a list of names and create a dictionary where key is the name and value is the length of the name\n",
    "  2. Iterate a list of numbers and create a dictionary with {key:value} being {number:squareroot_of_number}\n",
    "\n",
    "3. Extra assignment (This one goes beyond what is covered in the course notebooks. So only do it if you want an extra challenge).\n",
    "  - Progammatically using loops create a small program to produce a dictionary with all the 2 dice throw combinations as keys (eg: 2,3,4...etc) and their likelyhood in percent as values"
   ]
  },
  {
   "cell_type": "code",
   "execution_count": 4,
   "metadata": {},
   "outputs": [
    {
     "name": "stdout",
     "output_type": "stream",
     "text": [
      "['Hans', 'Henrik', 'Helle']\n"
     ]
    }
   ],
   "source": [
    "#1.1\n",
    "names = ['Hans', 'Grete', 'Jørgen', 'Henrik', 'Helle']\n",
    "\n",
    "sorted_names = [element for element in names if element.startswith('H')]\n",
    "print(sorted_names)"
   ]
  },
  {
   "cell_type": "code",
   "execution_count": 9,
   "metadata": {},
   "outputs": [
    {
     "name": "stdout",
     "output_type": "stream",
     "text": [
      "[1, 8, 27, 64, 125, 216, 343, 512, 729, 1000, 1331, 1728, 2197, 2744, 3375, 4096, 4913, 5832, 6859, 8000, 9261, 10648, 12167, 13824, 15625, 17576, 19683, 21952, 24389, 27000, 29791, 32768, 35937, 39304, 42875, 46656, 50653, 54872, 59319, 64000, 68921, 74088, 79507, 85184, 91125, 97336, 103823, 110592, 117649, 125000, 132651, 140608, 148877, 157464, 166375, 175616, 185193, 195112, 205379, 216000, 226981, 238328, 250047, 262144, 274625, 287496, 300763, 314432, 328509, 343000, 357911, 373248, 389017, 405224, 421875, 438976, 456533, 474552, 493039, 512000, 531441, 551368, 571787, 592704, 614125, 636056, 658503, 681472, 704969, 729000, 753571, 778688, 804357, 830584, 857375, 884736, 912673, 941192, 970299, 1000000]\n"
     ]
    }
   ],
   "source": [
    "#1.2\n",
    "print([element**3 for element in range(1,101)])\n"
   ]
  },
  {
   "cell_type": "code",
   "execution_count": 12,
   "metadata": {},
   "outputs": [
    {
     "name": "stdout",
     "output_type": "stream",
     "text": [
      "[(3, 'Ida'), (4, 'Alex'), (5, 'Janus'), (6, 'Harald'), (4, 'Kurt'), (3, 'Jan')]\n"
     ]
    }
   ],
   "source": [
    "#1.3\n",
    "names = ['Ida', 'Alex', 'Janus', 'Harald', 'Kurt', 'Jan']\n",
    "tuple_list = [(len(name),name) for name in names]\n",
    "print(tuple_list)\n"
   ]
  },
  {
   "cell_type": "code",
   "execution_count": 18,
   "metadata": {},
   "outputs": [
    {
     "name": "stdout",
     "output_type": "stream",
     "text": [
      "2\n",
      "3\n",
      "4\n",
      "2\n",
      "4\n"
     ]
    }
   ],
   "source": [
    "#1.4\n",
    "string_list = 'k2hk34kh2h4k'\n",
    "for element in string_list:\n",
    "    if element in \"0123456789\":\n",
    "            print(element)\n",
    "\n"
   ]
  },
  {
   "cell_type": "code",
   "execution_count": 19,
   "metadata": {},
   "outputs": [
    {
     "name": "stdout",
     "output_type": "stream",
     "text": [
      "{'2 6', '2 1', '5 5', '3 1', '4 5', '3 3', '6 1', '4 1', '4 2', '3 2', '1 4', '1 5', '4 6', '6 5', '1 3', '6 3', '3 4', '4 3', '5 1', '3 5', '2 2', '3 6', '4 4', '6 2', '5 4', '2 3', '2 4', '6 4', '2 5', '1 2', '1 6', '5 6', '6 6', '5 3', '5 2', '1 1'}\n"
     ]
    }
   ],
   "source": [
    "#1.5 findes 01-03 (Multiple for loops inside a list comprehension)\n",
    "dice1 = ['1','2','3','4','5','6']\n",
    "dice2 = ['1','2','3','4','5','6']\n",
    "\n",
    "hello = set([d1+' '+d2 for d2 in dice2 for d1 in dice1])\n",
    "print(hello)\n"
   ]
  },
  {
   "cell_type": "code",
   "execution_count": 20,
   "metadata": {},
   "outputs": [
    {
     "name": "stdout",
     "output_type": "stream",
     "text": [
      "{'Ida': 3, 'Alex': 4, 'Janus': 5, 'Harald': 6, 'Kurt': 4, 'Jan': 3}\n"
     ]
    }
   ],
   "source": [
    "#2.1\n",
    "names = ['Ida', 'Alex', 'Janus', 'Harald', 'Kurt', 'Jan']\n",
    "print({name: len(name) for name in names})\n",
    "#curlybrakes = dictonary "
   ]
  },
  {
   "cell_type": "code",
   "execution_count": 21,
   "metadata": {},
   "outputs": [
    {
     "name": "stdout",
     "output_type": "stream",
     "text": [
      "{5: 2.23606797749979, 10: 3.1622776601683795, 12: 3.4641016151377544}\n"
     ]
    }
   ],
   "source": [
    "#2.2\n",
    "import math\n",
    "numbers = [5,10,12]\n",
    "print({number: math.sqrt(number) for number in numbers})"
   ]
  },
  {
   "cell_type": "code",
   "execution_count": 24,
   "metadata": {},
   "outputs": [
    {
     "name": "stdout",
     "output_type": "stream",
     "text": [
      "{1: 0.0, 2: 2.7777777777777777, 3: 5.555555555555555, 4: 8.333333333333332, 5: 11.11111111111111, 6: 13.88888888888889, 7: 16.666666666666664, 8: 13.88888888888889, 9: 11.11111111111111, 10: 8.333333333333332, 11: 5.555555555555555, 12: 2.7777777777777777}\n"
     ]
    }
   ],
   "source": [
    "#3.1\n",
    "import math\n",
    "dice_comb = [8, 6, 7, 8, 5, 10, 6, 8, 3, 7, 9, 4, 9, 11, 11, 6, 7, 9, 10, 4, 6, 10, 5, 8, 12, 4, 7, 7, 2, 5, 3, 7, 8, 6, 5, 9]\n",
    "\n",
    "dice_dict = {1, 2, 3, 4, 5, 6, 7, 8, 9, 10, 11, 12}\n",
    "#(dice_comb.count(element) / 36) = udregningen \n",
    "print({element: (dice_comb.count(element) / 36)*100 for element in dice_dict})\n"
   ]
  }
 ],
 "metadata": {
  "interpreter": {
   "hash": "2be5faf79681da6f2a61fdfdd5405d65d042280f7fba6178067603e3a2925119"
  },
  "kernelspec": {
   "display_name": "Python 3.10.0 64-bit",
   "language": "python",
   "name": "python3"
  },
  "language_info": {
   "codemirror_mode": {
    "name": "ipython",
    "version": 3
   },
   "file_extension": ".py",
   "mimetype": "text/x-python",
   "name": "python",
   "nbconvert_exporter": "python",
   "pygments_lexer": "ipython3",
   "version": "3.10.0"
  },
  "orig_nbformat": 4
 },
 "nbformat": 4,
 "nbformat_minor": 2
}
