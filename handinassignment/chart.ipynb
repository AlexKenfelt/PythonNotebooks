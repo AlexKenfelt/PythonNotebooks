{
 "cells": [
  {
   "cell_type": "code",
   "execution_count": null,
   "metadata": {},
   "outputs": [],
   "source": [
    "import pandas as pd\n",
    "\n",
    "data = pd.read_csv('./Highest Holywood Grossing Movies.csv', skiprows=0)\n",
    "\n",
    "license = pd.Series(data['License'])   \n",
    "\n",
    "\n",
    "license_count = license.value_counts() \n",
    "license_count.plot(kind='pie', autopct='%1.0f%%')"
   ]
  }
 ],
 "metadata": {
  "language_info": {
   "name": "python"
  },
  "orig_nbformat": 4
 },
 "nbformat": 4,
 "nbformat_minor": 2
}
